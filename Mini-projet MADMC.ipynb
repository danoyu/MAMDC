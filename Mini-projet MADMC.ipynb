{
 "cells": [
  {
   "cell_type": "markdown",
   "metadata": {},
   "source": [
    "## Projet MADMC -  Mounswif DARKAOUI et Dan MIMOUNI "
   ]
  },
  {
   "cell_type": "markdown",
   "metadata": {},
   "source": [
    "### Import des bibliothéques"
   ]
  },
  {
   "cell_type": "code",
   "execution_count": 15,
   "metadata": {},
   "outputs": [],
   "source": [
    "import numpy as np\n",
    "import copy\n",
    "import time\n",
    "import matplotlib.pyplot as plt"
   ]
  },
  {
   "cell_type": "markdown",
   "metadata": {},
   "source": [
    "# 2. Résultats préliminaires"
   ]
  },
  {
   "cell_type": "markdown",
   "metadata": {},
   "source": [
    "### Question 2\n",
    "Fonction qui génère un ensemble de n vecteurs\n",
    "où chaque composante est tirée aléatoirement selon une loi normale\n",
    "d'espérance m et d'écart-type m/4."
   ]
  },
  {
   "cell_type": "code",
   "execution_count": 16,
   "metadata": {},
   "outputs": [],
   "source": [
    "# n : nombre de vecteur\n",
    "# m : esperence\n",
    "def gen_vect(n,m):\n",
    "    vectors = []\n",
    "    for i in range(n):\n",
    "        vectors.append(np.random.normal(m,m/4,2).tolist())\n",
    "    return vectors\n",
    "\n",
    "# Exemple de test\n",
    "# gen_vect(10,52)"
   ]
  },
  {
   "cell_type": "markdown",
   "metadata": {},
   "source": [
    "### Question 3\n",
    "Algorithme naïf pour déterminer les vecteurs non-dominés.\n",
    "<br>Comparaisons par paires systématiques."
   ]
  },
  {
   "cell_type": "code",
   "execution_count": 17,
   "metadata": {},
   "outputs": [],
   "source": [
    "def opt_naif(n):\n",
    "    for i, v1 in enumerate(n):\n",
    "        a_supprimer = []\n",
    "        #Comparaisons par paires systématiques\n",
    "        for num in range(i+1,len(n)):\n",
    "            v2 = n[num]\n",
    "            if v1[0] >= v2[0] and v1[1] >= v2[1]:\n",
    "                n.remove(v1)\n",
    "                break\n",
    "            if v1[0] <= v2[0] and v1[1] <= v2[1]:\n",
    "                a_supprimer.append(v2)\n",
    "        for v in a_supprimer:\n",
    "            n.remove(v)\n",
    "    return n\n",
    "\n",
    "\n",
    "# Exemples de tests\n",
    "# opt_naif(gen_vect(100,5))\n",
    "\n",
    "# l = [[1.5,2.1535], [2.365,3.36453], [1,3],[2,2], [1,2],[2,1]]\n",
    "# opt_naif(l)"
   ]
  },
  {
   "cell_type": "markdown",
   "metadata": {},
   "source": [
    "### Question 4\n",
    "Détermine les vecteurs non-dominés en réalisant :\n",
    "    1. Un tri lexicographique des vecteurs\n",
    "    2. Un parcours de la liste triée pour identifer les vecteurs non-dominés"
   ]
  },
  {
   "cell_type": "code",
   "execution_count": 18,
   "metadata": {},
   "outputs": [],
   "source": [
    "def opt_lex(n):\n",
    "    # Tri lexicographique\n",
    "    n_tmp = np.array(n)\n",
    "    n_ind = np.lexsort((n_tmp[:,1],n_tmp[:,0]))\n",
    "    \n",
    "    n = [0]*len(n_tmp)\n",
    "    for i in range(len(n_tmp)):\n",
    "        n[i] = n_tmp[n_ind[i]]\n",
    "\n",
    "    x = n[0][0]\n",
    "    y = n[0][1]\n",
    "\n",
    "    a_supprimer = []\n",
    "    \n",
    "    #parcours pour identifier les vecteurs non-domines\n",
    "    for i, vect in enumerate(n[1:]):\n",
    "        x_tmp = vect[0]\n",
    "        y_tmp = vect[1]\n",
    "\n",
    "        if y <= y_tmp:\n",
    "            a_supprimer.append(i+1)\n",
    "        else:\n",
    "            x = x_tmp\n",
    "            y = y_tmp\n",
    "\n",
    "    return np.delete(n,a_supprimer,0)\n",
    "\n",
    "# Exemple de test\n",
    "# l = [[1,2], [2,3], [1,3],[2,2], [1,2]]\n",
    "# l = [[1,2], [2,3], [1,3],[2,2], [1,2],[2,1]]\n",
    "# opt_lex(l)"
   ]
  },
  {
   "cell_type": "markdown",
   "metadata": {},
   "source": [
    "### Question 5\n",
    "Comparaison des deux algorithmes par l'intermédiaire des courbes du temps\n",
    "d'exécution respectifs des deux algorithmes en fonction du nombres de vecteurs n. <br>"
   ]
  },
  {
   "cell_type": "code",
   "execution_count": 121,
   "metadata": {},
   "outputs": [],
   "source": [
    "def comparaison_moyenne(nb_exec,n_min,n_max,pas,m):\n",
    "    x = range(n_min,n_max+pas,pas)\n",
    "    naif_moyenne = np.zeros(len(x))\n",
    "    lex_moyenne = np.zeros(len(x))\n",
    "    for i in range(nb_exec):\n",
    "        for j,nb_vect in enumerate(x): # n_max + pas pour ajouter le 10000\n",
    "            list_vect = gen_vect(nb_vect,m)\n",
    "            \n",
    "            #naif\n",
    "            t0 = time.time()\n",
    "            opt_naif(list_vect)\n",
    "            naif_moyenne[j] += time.time() - t0\n",
    "            \n",
    "            #lexico\n",
    "            t0 = time.time()\n",
    "            opt_lex(list_vect)\n",
    "            lex_moyenne[j] += time.time() - t0\n",
    "    #moyenne\n",
    "    naif_moyenne /= nb_exec\n",
    "    lex_moyenne /= nb_exec\n",
    "    return x,naif_moyenne,lex_moyenne"
   ]
  },
  {
   "cell_type": "markdown",
   "metadata": {},
   "source": [
    "Dans les expérimentations, le nombre de vecteurs variera de n = 200\n",
    "à n = 10000 (par pas de 200 par exemple), et on prendra m = 1000. Pour\n",
    "chaque valeur de n, on fera une moyenne du temps d'exécution sur 50 ensembles\n",
    "tirés aléatoirement."
   ]
  },
  {
   "cell_type": "code",
   "execution_count": 148,
   "metadata": {},
   "outputs": [
    {
     "data": {
      "image/png": "[encoded data removed]",
      "text/plain": [
       "<matplotlib.figure.Figure at 0x14576ac8>"
      ]
     },
     "metadata": {},
     "output_type": "display_data"
    }
   ],
   "source": [
    "nb_exec = 50\n",
    "n_min = 200\n",
    "n_max = 10000\n",
    "n_pas = 200\n",
    "m = 1000\n",
    "\n",
    "x,naif_moyenne,lex_moyenne = comparaison_moyenne(nb_exec,n_min,n_max,n_pas,m)\n",
    "plt.plot(x,naif_moyenne, label=\"naif\")\n",
    "plt.plot(x,lex_moyenne, label = 'lexicographique')\n",
    "plt.xlabel(\"nombre de vecteurs\")\n",
    "plt.ylabel('temps')\n",
    "plt.legend(bbox_to_anchor=(0., 1.02, 1., .102), loc=3, ncol=2, mode=\"expand\")\n",
    "plt.show()"
   ]
  },
  {
   "cell_type": "markdown",
   "metadata": {},
   "source": [
    "# 3. Une première procédure de résolution"
   ]
  },
  {
   "cell_type": "markdown",
   "metadata": {},
   "source": [
    "### Question 7 \n",
    "Procédure de programmation dynamique en utilisant la fonction de la question 4 pour déterminer les points non-dominés en chaque case du tableau de programmation dynamique."
   ]
  },
  {
   "cell_type": "code",
   "execution_count": 140,
   "metadata": {},
   "outputs": [
    {
     "data": {
      "text/plain": [
       "[array([ 8846.05961764,  9636.10901272]),\n",
       " array([ 9046.45851571,  9591.03709294])]"
      ]
     },
     "execution_count": 140,
     "metadata": {},
     "output_type": "execute_result"
    }
   ],
   "source": [
    "# n : liste de vecteurs\n",
    "# k : nombre d'elements consideres \n",
    "def prog_dynamique(n,k):\n",
    "    #init de la matrice avec des 0\n",
    "    matrice = [[ [] for x in range(len(n))] for y in range(k)]\n",
    "\n",
    "    #init de la premiere ligne pour l'algo\n",
    "    for i in range(len(n)):\n",
    "        matrice[0][i].append([0,0])\n",
    "    \n",
    "    #init du premier element\n",
    "    matrice[1][0].append(n[0])\n",
    "\n",
    "    #algo dynamique\n",
    "    for i in range(1,len(matrice)):\n",
    "        for j in range(i,len(matrice[i])):\n",
    "            nouvelle_ensemble = copy.deepcopy(matrice[i-1][j-1])\n",
    "            \n",
    "            #parcours des vecteurs de ens et on ajoute le vecteur courant\n",
    "            for i_ens in range(len(nouvelle_ensemble)):\n",
    "                for j_ens in range(len(nouvelle_ensemble[i_ens])):\n",
    "                    nouvelle_ensemble[i_ens][j_ens] += n[j][j_ens]\n",
    "                \n",
    "            #parcours des vecteurs de matrice[i][j-1] et ajout dans le nouvelle_ensemble\n",
    "            for vector in matrice[i][j-1]:\n",
    "                nouvelle_ensemble.append(vector)\n",
    "            \n",
    "            #calcul de l'optimal pour le nouvelle_ensemble\n",
    "            #et ajout dans la matrice du nouvelle_ensemble optimal\n",
    "            matrice[i][j] = list(opt_lex(nouvelle_ensemble)) \n",
    "    return matrice\n",
    "\n",
    "# la derniere case du tableau est l'image des pareto non-domines\n",
    "# Pour acceder a la derniere case du tableau on fera [-1][-1] comme ci dessous\n",
    "# prog_dynamique(gen_vect(10,1000),10)[-1][-1]"
   ]
  },
  {
   "cell_type": "markdown",
   "metadata": {},
   "source": [
    "### Question 8\n",
    "Détermine un vecteur minimax dans un ensemble de vecteurs (en dimension 2)."
   ]
  },
  {
   "cell_type": "code",
   "execution_count": 141,
   "metadata": {},
   "outputs": [
    {
     "data": {
      "text/plain": [
       "[428.62328925161694, 788.2448661484949]"
      ]
     },
     "execution_count": 141,
     "metadata": {},
     "output_type": "execute_result"
    }
   ],
   "source": [
    "# alpha_min et alpha_max à choisir \n",
    "# renvoi le vecteur qui minimise la fonction max()\n",
    "def minimax(liste_vecteurs,alpha_min, alpha_max):\n",
    "    res = []\n",
    "    for vector in liste_vecteurs:\n",
    "        x = vector[0]\n",
    "        y = vector[1]\n",
    "        if x > y :\n",
    "            alpha = alpha_max\n",
    "        else : \n",
    "            alpha = alpha_min\n",
    "        res.append(x*alpha + (1-alpha)*y)\n",
    "    index = res.index(min(res))\n",
    "    return liste_vecteurs[index]\n",
    "\n",
    "# Exemple de test\n",
    "# minimax(gen_vect(10,1000),0.5,0.7)"
   ]
  },
  {
   "cell_type": "markdown",
   "metadata": {},
   "source": [
    "### Question 9\n",
    "Procédure en deux temps pour déterminer l'image dans l'espace des objectifs d'une solution minimax :\n",
    "    1. déterminer les points non-dominés (au sens de Pareto) par programmation dynamique bi-objectifs \n",
    "    2. déterminer un point minimax parmi ceux-ci."
   ]
  },
  {
   "cell_type": "code",
   "execution_count": 142,
   "metadata": {},
   "outputs": [
    {
     "data": {
      "text/plain": [
       "array([ 560.49235991,  771.8867482 ])"
      ]
     },
     "execution_count": 142,
     "metadata": {},
     "output_type": "execute_result"
    }
   ],
   "source": [
    "# k : nombre d'elements consideres \n",
    "def minimax_dynamique_phase(liste_vecteurs, k, alpha_min,alpha_max):\n",
    "    new_liste = prog_dynamique(liste_vecteurs,k)[-1][-1]\n",
    "    return minimax(new_liste,alpha_min,alpha_max)\n",
    "\n",
    "# Exemple de test\n",
    "# minimax_dynamique_phase(gen_vect(100,100),10,0.5,0.7)"
   ]
  },
  {
   "cell_type": "markdown",
   "metadata": {},
   "source": [
    "# 4. Une seconde procédure de résolution"
   ]
  },
  {
   "cell_type": "markdown",
   "metadata": {},
   "source": [
    "### Question 11\n",
    "Création de la nouvelle instance pi' en modifiant le cout de l'instance pi en se servant de la définition de la I-dominance."
   ]
  },
  {
   "cell_type": "code",
   "execution_count": 143,
   "metadata": {},
   "outputs": [
    {
     "data": {
      "text/plain": [
       "[[1.8, 1.5], [2.8000000000000003, 2.5], [2.6000000000000005, 2.0], [2.0, 2.0]]"
      ]
     },
     "execution_count": 143,
     "metadata": {},
     "output_type": "execute_result"
    }
   ],
   "source": [
    "def modif_vecteur(liste_vecteurs,alpha_min,alpha_max):\n",
    "    for vecteur in liste_vecteurs:\n",
    "        y_0 = vecteur[0]\n",
    "        vecteur[0] = alpha_min * y_0 + (1-alpha_min) * vecteur[1]\n",
    "        vecteur[1] = alpha_max * y_0 + (1-alpha_max) * vecteur[1]\n",
    "    return liste_vecteurs\n",
    "\n",
    "# l = [[1,2], [2,3], [1,3], [2,2]]\n",
    "# modif_vecteur(l,0.2,0.5)"
   ]
  },
  {
   "cell_type": "markdown",
   "metadata": {},
   "source": [
    "Comparaison expérimentale de la première et la seconde procédure de résolution en traçant les courbes des temps d'exécution respectifs des deux procédures en fonction de αmax - αmin, sur des ensembles de vecteurs tirés aléatoirement à l'aide de la fonction de la question 2."
   ]
  },
  {
   "cell_type": "code",
   "execution_count": 154,
   "metadata": {},
   "outputs": [],
   "source": [
    "def comparaison_minimax_I(nb_exec,k,epsilon_min,epsilon_max,epsilon_pas,nb_vecteurs,m):\n",
    "    x = np.arange(epsilon_min,epsilon_max+epsilon_pas,epsilon_pas)\n",
    "    t_minimax = np.zeros(len(x))\n",
    "    t_I = np.zeros(len(x))\n",
    "    for i,epsilon in enumerate(x): \n",
    "        for j in range(nb_exec):\n",
    "            liste_vecteurs = gen_vect(nb_vecteurs,m)\n",
    "\n",
    "            alpha_min = 0.5 - epsilon\n",
    "            alpha_max = 0.5 + epsilon\n",
    "            \n",
    "            t = time.time()\n",
    "            minimax_dynamique_phase(liste_vecteurs,k,alpha_min,alpha_max)\n",
    "            t_minimax[i] += time.time() - t\n",
    "            \n",
    "            t = time.time()\n",
    "            prog_dynamique(modif_vecteur(liste_vecteurs,alpha_min,alpha_max),k)[-1][-1]\n",
    "            t_I[i] += time.time() - t\n",
    "    t_minimax /= nb_exec\n",
    "    t_I /= nb_exec\n",
    "    return x,t_minimax,t_I"
   ]
  },
  {
   "cell_type": "markdown",
   "metadata": {},
   "source": [
    "Dans les expérimentations, on fixera nb_vecteurs = 50, k = 10 et m = 1000. On considérera les intervalles Iε = [0.5 − ε, 0.5 + ε] en faisant varier ε de 0.025 à 0.5 (par pas de 0.025 par exemple). Pour chaque intervalle Iε, on fera une moyenne du temps d'exécution sur 50 instances tirées aléatoirement"
   ]
  },
  {
   "cell_type": "code",
   "execution_count": 156,
   "metadata": {},
   "outputs": [
    {
     "data": {
      "image/png": "[encoded data removed]",
      "text/plain": [
       "<matplotlib.figure.Figure at 0xf715668>"
      ]
     },
     "metadata": {},
     "output_type": "display_data"
    }
   ],
   "source": [
    "nb_exec = 50\n",
    "k = 10\n",
    "m = 1000\n",
    "nb_vecteurs = 50\n",
    "epsilon_min = 0.025\n",
    "epsilon_max = 0.5\n",
    "epsilon_pas = 0.025\n",
    "\n",
    "# x,t_minimax,t_I = comparaison_prog_dynamique_I(nb_exec,k,epsilon_min,epsilon_max,epsilon_pas,nb_vecteurs,m)\n",
    "plt.plot(x,t_minimax, label=\"minimax\")\n",
    "plt.plot(x,t_I, label = 'I-dominance')\n",
    "plt.xlabel('epsilon')\n",
    "plt.ylabel('time')\n",
    "plt.legend(bbox_to_anchor=(0., 1.02, 1., .102), loc=3, ncol=2, mode=\"expand\")\n",
    "plt.show()"
   ]
  }
 ],
 "metadata": {
  "kernelspec": {
   "display_name": "Python 2",
   "language": "python",
   "name": "python2"
  },
  "language_info": {
   "codemirror_mode": {
    "name": "ipython",
    "version": 2
   },
   "file_extension": ".py",
   "mimetype": "text/x-python",
   "name": "python",
   "nbconvert_exporter": "python",
   "pygments_lexer": "ipython2",
   "version": "2.7.14"
  }
 },
 "nbformat": 4,
 "nbformat_minor": 2
}
